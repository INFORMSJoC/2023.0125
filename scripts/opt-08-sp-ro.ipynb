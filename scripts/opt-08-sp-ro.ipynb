{
 "cells": [
  {
   "cell_type": "code",
   "execution_count": null,
   "id": "eab549fc",
   "metadata": {},
   "outputs": [],
   "source": [
    "import argparse\n",
    "import multiprocessing\n",
    "import os\n",
    "\n",
    "import numpy as np\n",
    "import pandas as pd\n",
    "import yaml\n",
    "from itertools import chain\n",
    "\n",
    "from config import (SPECS_COMPLETE_YAMLS, HEURISTIC_RESULTS_DIR,\n",
    "                    SP_RESULTS_DIR, RO_RESULTS_DIR)\n",
    "from model import DC, LPAC, Solution\n",
    "from util import in_notebook"
   ]
  },
  {
   "cell_type": "code",
   "execution_count": null,
   "id": "a123648a",
   "metadata": {},
   "outputs": [],
   "source": [
    "# user inputs\n",
    "if in_notebook():\n",
    "    f = 0\n",
    "    r_hat = 3\n",
    "    casestudy = 'imelda'\n",
    "    pftype = 'dc'\n",
    "    approach = 'stochastic'\n",
    "    timelimit = 45 * 60\n",
    "else:\n",
    "    parser = argparse.ArgumentParser()\n",
    "    parser.add_argument('--f')\n",
    "    parser.add_argument('--rhat')\n",
    "    parser.add_argument('--casestudy')\n",
    "    parser.add_argument('--pftype')\n",
    "    parser.add_argument('--approach')\n",
    "    parser.add_argument('--timelimit')\n",
    "    args = parser.parse_args()\n",
    "    f = int(args.f)\n",
    "    r_hat = int(args.rhat)\n",
    "    pftype = str(args.pftype)\n",
    "    casestudy = str(args.casestudy)\n",
    "    approach = str(args.approach)\n",
    "    timelimit = int(args.timelimit)"
   ]
  },
  {
   "cell_type": "code",
   "execution_count": null,
   "id": "30e22c3b-4274-44b0-acbe-ad2b66912653",
   "metadata": {},
   "outputs": [],
   "source": [
    "if approach == 'stochastic':\n",
    "    MY_RESULTS_DIR = SP_RESULTS_DIR\n",
    "elif approach == 'robust':\n",
    "    MY_RESULTS_DIR = RO_RESULTS_DIR\n",
    "else:\n",
    "    raise ValueError('`approach` must be either \"stochastic\" or \"robust\"')"
   ]
  },
  {
   "cell_type": "code",
   "execution_count": null,
   "id": "e3af521f",
   "metadata": {},
   "outputs": [],
   "source": [
    "with open(SPECS_COMPLETE_YAMLS[casestudy, pftype]) as fh:\n",
    "    specs = yaml.load(fh, Loader=yaml.Loader)\n",
    "    specs['options']['approach'] = approach\n",
    "    for key, val in specs['r_hat'].items():\n",
    "        specs['r_hat'][key] = min(val, r_hat)\n",
    "    for key in list(specs['xi']):\n",
    "        (k, r, omega) = key\n",
    "        if r > r_hat:\n",
    "            specs['xi'].pop(key)\n",
    "    for k in specs['R']:\n",
    "        specs['R'][k] = [i for i in range(1, min(max(specs['R'][k]), r_hat) + 1)]\n",
    "    probability = pd.Series(specs['probability'])\n",
    "\n",
    "heur_sols_filename = os.path.join(HEURISTIC_RESULTS_DIR, approach, f'solutions-{casestudy}-r{r_hat}.yaml')\n",
    "with open(heur_sols_filename) as fh:\n",
    "    sols_data = yaml.load(fh, Loader=yaml.Loader)\n",
    "\n",
    "perf_data = dict()\n",
    "for omega in specs['Omega']:\n",
    "    heur_perf_filename = os.path.join(HEURISTIC_RESULTS_DIR, approach, f'perf-{pftype}-{casestudy}-{omega}-r{r_hat}.yaml')\n",
    "    with open(heur_perf_filename) as fh:\n",
    "        perf_data.update(yaml.load(fh, Loader=yaml.Loader))\n",
    "sr_perf = pd.Series(perf_data)\n",
    "sr_perf.index.names = ['f', 'weight_load', 'weight_flow', 'omega']\n",
    "if approach == 'stochastic':\n",
    "    df_perf = sr_perf.unstack('omega').multiply(probability).sum(axis=1).unstack(['weight_load', 'weight_flow'])\n",
    "elif approach == 'robust':\n",
    "    df_perf = sr_perf.unstack('omega').max(axis=1).unstack(['weight_load', 'weight_flow'])\n",
    "else:\n",
    "    raise ValueError('`approach` must be either \"stochastic\" or \"robust\"')"
   ]
  },
  {
   "cell_type": "code",
   "execution_count": null,
   "id": "3dfad254",
   "metadata": {},
   "outputs": [],
   "source": [
    "model_classes = {\n",
    "    'dc': DC,\n",
    "    'lpacc': LPAC,\n",
    "    'lpacf': LPAC,\n",
    "    'qpac': LPAC\n",
    "}"
   ]
  },
  {
   "cell_type": "code",
   "execution_count": null,
   "id": "05a36187",
   "metadata": {},
   "outputs": [],
   "source": [
    "# get the appropriate model class\n",
    "modelcls = model_classes[pftype]\n",
    "\n",
    "# instantiate a model\n",
    "MODEL = modelcls(**specs)\n",
    "\n",
    "# budget constraint\n",
    "MODEL.con_resource_hi.RHS = f\n",
    "\n",
    "# load heuristic solution\n",
    "weight_load, weight_flow = df_perf.loc[f].idxmin()\n",
    "x_heur = list(chain.from_iterable(sols_data[f, weight_load, weight_flow]))\n",
    "for (k, r) in MODEL.x:\n",
    "    MODEL.x[k, r].Start = int((k, r) in x_heur)\n",
    "\n",
    "# update\n",
    "MODEL.update()"
   ]
  },
  {
   "cell_type": "code",
   "execution_count": null,
   "id": "28170935-c9a7-4541-9359-29aacbeb0d7a",
   "metadata": {},
   "outputs": [],
   "source": [
    "# if solving an LPAC variant and DC solution is available, load it\n",
    "zipfile = os.path.join(MY_RESULTS_DIR, f'{casestudy}-dc-f{f}-r{r_hat}.zip')\n",
    "if os.path.exists(zipfile):\n",
    "    MODEL.model.NumStart += 1\n",
    "    MODEL.model.setParam('StartNumber', MODEL.model.NumStart)\n",
    "    dc_solution = Solution.from_zip(zipfile)\n",
    "    for (k, r), indicator in dc_solution['x'].round().items():\n",
    "        MODEL.x[k, r].Start = int(indicator > 0.5)"
   ]
  },
  {
   "cell_type": "code",
   "execution_count": null,
   "id": "53df690f",
   "metadata": {},
   "outputs": [],
   "source": [
    "os.makedirs(MY_RESULTS_DIR, exist_ok=True)\n",
    "logfile = os.path.join(MY_RESULTS_DIR, f'{casestudy}-{pftype}-f{f}-r{r_hat}.log')\n",
    "zipfile = os.path.join(MY_RESULTS_DIR, f'{casestudy}-{pftype}-f{f}-r{r_hat}.zip')\n",
    "\n",
    "MODEL.model.setParam('MIPGap', 0.00)\n",
    "MODEL.model.setParam('TimeLimit', timelimit)\n",
    "MODEL.model.setParam('LogFile', logfile)\n",
    "MODEL.model.setParam('Threads', np.floor(multiprocessing.cpu_count()))\n",
    "MODEL.model.setParam('ImpliedCuts', 2)\n",
    "MODEL.model.setParam('PreSolve', 2)\n",
    "MODEL.model.setParam('CutPasses', 10)\n",
    "MODEL.model.setParam('MIPFocus', 2)\n",
    "MODEL.update()\n",
    "MODEL.solve()\n",
    "\n",
    "sol = Solution.from_solved_instance(MODEL)\n",
    "sol.to_zip(zipfile, variables=['x', 'ObjBound', 'ObjVal', 'gamma', 'gamma_under', 'gamma_over'])"
   ]
  }
 ],
 "metadata": {
  "kernelspec": {
   "display_name": "Python 3 (ipykernel)",
   "language": "python",
   "name": "python3"
  },
  "language_info": {
   "codemirror_mode": {
    "name": "ipython",
    "version": 3
   },
   "file_extension": ".py",
   "mimetype": "text/x-python",
   "name": "python",
   "nbconvert_exporter": "python",
   "pygments_lexer": "ipython3",
   "version": "3.11.5"
  }
 },
 "nbformat": 4,
 "nbformat_minor": 5
}
