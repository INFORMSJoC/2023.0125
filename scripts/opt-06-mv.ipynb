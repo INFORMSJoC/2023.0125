{
 "cells": [
  {
   "cell_type": "code",
   "execution_count": null,
   "id": "21bc2437",
   "metadata": {},
   "outputs": [],
   "source": [
    "import argparse\n",
    "import multiprocessing\n",
    "import os\n",
    "\n",
    "import numpy as np\n",
    "import yaml\n",
    "\n",
    "from config import SPECS_COMPLETE_YAMLS, MV_RESULTS_DIR\n",
    "from model import DC, LPAC, Solution\n",
    "from util import in_notebook"
   ]
  },
  {
   "cell_type": "code",
   "execution_count": null,
   "id": "f41daf29",
   "metadata": {},
   "outputs": [],
   "source": [
    "# user inputs\n",
    "if in_notebook():\n",
    "    f = 0\n",
    "    r_hat = 3\n",
    "    casestudy = 'imelda'\n",
    "    pftype = 'dc'\n",
    "    approach = 'robust'\n",
    "    timelimit = 10 * 60\n",
    "else:\n",
    "    parser = argparse.ArgumentParser()\n",
    "    parser.add_argument('--f')\n",
    "    parser.add_argument('--rhat')\n",
    "    parser.add_argument('--casestudy')\n",
    "    parser.add_argument('--pftype')\n",
    "    parser.add_argument('--approach')\n",
    "    parser.add_argument('--timelimit')\n",
    "    args = parser.parse_args()\n",
    "    f = int(args.f)\n",
    "    r_hat = int(args.rhat)\n",
    "    pftype = str(args.pftype)\n",
    "    casestudy = str(args.casestudy)\n",
    "    approach = str(args.approach)\n",
    "    timelimit = int(args.timelimit)"
   ]
  },
  {
   "cell_type": "code",
   "execution_count": null,
   "id": "9636451c",
   "metadata": {},
   "outputs": [],
   "source": [
    "with open(SPECS_COMPLETE_YAMLS[casestudy, pftype, 'mv']) as fh:\n",
    "    specs = yaml.load(fh, Loader=yaml.Loader)\n",
    "    specs['options']['approach'] = approach\n",
    "    for key, val in specs['r_hat'].items():\n",
    "        specs['r_hat'][key] = min(val, r_hat)\n",
    "    for key in list(specs['xi']):\n",
    "        (k, r, omega) = key\n",
    "        if r > r_hat:\n",
    "            specs['xi'].pop(key)\n",
    "    for k in specs['R']:\n",
    "        specs['R'][k] = [i for i in range(1, min(max(specs['R'][k]), r_hat) + 1)]"
   ]
  },
  {
   "cell_type": "code",
   "execution_count": null,
   "id": "ca42d9cb",
   "metadata": {},
   "outputs": [],
   "source": [
    "model_classes = {\n",
    "    'dc': DC,\n",
    "    'lpacc': LPAC,\n",
    "    'lpacf': LPAC,\n",
    "    'qpac': LPAC\n",
    "}"
   ]
  },
  {
   "cell_type": "code",
   "execution_count": null,
   "id": "9f9b6033",
   "metadata": {},
   "outputs": [],
   "source": [
    "# get the appropriate model class\n",
    "modelcls = model_classes[pftype]\n",
    "\n",
    "# instantiate a model\n",
    "MODEL = modelcls(**specs)\n",
    "\n",
    "# budget constraint\n",
    "MODEL.con_resource_hi.RHS = f\n",
    "\n",
    "# update\n",
    "MODEL.update()"
   ]
  },
  {
   "cell_type": "code",
   "execution_count": null,
   "id": "0d55e004",
   "metadata": {},
   "outputs": [],
   "source": [
    "# if solving an LPAC variant and DC solution is available, load it\n",
    "zipfile = os.path.join(MV_RESULTS_DIR, f'{casestudy}-dc-f{f}-r{r_hat}.zip')\n",
    "if os.path.exists(zipfile):\n",
    "    dc_solution = Solution.from_zip(zipfile)\n",
    "    x = dc_solution['x'].loc[dc_solution['x'] == 1].index\n",
    "    for (k, r) in x:\n",
    "        MODEL.x[k, r].Start = 1"
   ]
  },
  {
   "cell_type": "code",
   "execution_count": null,
   "id": "92cb3ac2",
   "metadata": {},
   "outputs": [],
   "source": [
    "MODEL.model.setParam('MIPGap', 0.00)\n",
    "MODEL.model.setParam('TimeLimit', timelimit)\n",
    "MODEL.model.setParam('Threads', np.floor(multiprocessing.cpu_count()))\n",
    "MODEL.model.setParam('ImpliedCuts', 2)\n",
    "MODEL.model.setParam('PreSolve', 2)\n",
    "MODEL.model.setParam('CutPasses', 10)\n",
    "MODEL.model.setParam('MIPFocus', 2)\n",
    "MODEL.update()\n",
    "MODEL.solve()\n",
    "\n",
    "os.makedirs(MV_RESULTS_DIR, exist_ok=True)\n",
    "zipfile = os.path.join(MV_RESULTS_DIR, f'{casestudy}-{pftype}-f{f}-r{r_hat}.zip')\n",
    "sol = Solution.from_solved_instance(MODEL)\n",
    "sol.to_zip(zipfile, variables=['x', 'ObjBound', 'ObjVal', 'gamma', 'gamma_under', 'gamma_over'])"
   ]
  }
 ],
 "metadata": {
  "kernelspec": {
   "display_name": "Python 3 (ipykernel)",
   "language": "python",
   "name": "python3"
  },
  "language_info": {
   "codemirror_mode": {
    "name": "ipython",
    "version": 3
   },
   "file_extension": ".py",
   "mimetype": "text/x-python",
   "name": "python",
   "nbconvert_exporter": "python",
   "pygments_lexer": "ipython3",
   "version": "3.11.5"
  }
 },
 "nbformat": 4,
 "nbformat_minor": 5
}
